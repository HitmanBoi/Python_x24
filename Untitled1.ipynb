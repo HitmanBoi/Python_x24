{
 "cells": [
  {
   "cell_type": "code",
   "execution_count": 5,
   "id": "d0e2537e",
   "metadata": {},
   "outputs": [
    {
     "data": {
      "text/plain": [
       "True"
      ]
     },
     "execution_count": 5,
     "metadata": {},
     "output_type": "execute_result"
    }
   ],
   "source": [
    "a=True\n",
    "b=False\n",
    "#a and b\n",
    "a and a \n",
    "#b and a \n",
    "#b and b"
   ]
  },
  {
   "cell_type": "code",
   "execution_count": 22,
   "id": "49f41489",
   "metadata": {},
   "outputs": [
    {
     "data": {
      "text/plain": [
       "101"
      ]
     },
     "execution_count": 22,
     "metadata": {},
     "output_type": "execute_result"
    }
   ],
   "source": [
    "(111&101)"
   ]
  },
  {
   "cell_type": "code",
   "execution_count": 24,
   "id": "99eb0fac",
   "metadata": {},
   "outputs": [
    {
     "name": "stdout",
     "output_type": "stream",
     "text": [
      "0    1\n",
      "1    2\n",
      "2    3\n",
      "3    4\n",
      "4    5\n",
      "dtype: int64 <class 'pandas.core.series.Series'>\n",
      "[1, 2, 3, 4, 5] <class 'list'>\n"
     ]
    }
   ],
   "source": [
    "import pandas as pd \n",
    "df= pd.Series([1,2,3,4,5])\n",
    "print(df,type(df))\n",
    "print(df.tolist(),type(df.tolist()))"
   ]
  },
  {
   "cell_type": "code",
   "execution_count": null,
   "id": "371c25ba",
   "metadata": {},
   "outputs": [],
   "source": []
  }
 ],
 "metadata": {
  "kernelspec": {
   "display_name": "Python 3 (ipykernel)",
   "language": "python",
   "name": "python3"
  },
  "language_info": {
   "codemirror_mode": {
    "name": "ipython",
    "version": 3
   },
   "file_extension": ".py",
   "mimetype": "text/x-python",
   "name": "python",
   "nbconvert_exporter": "python",
   "pygments_lexer": "ipython3",
   "version": "3.11.0"
  }
 },
 "nbformat": 4,
 "nbformat_minor": 5
}
